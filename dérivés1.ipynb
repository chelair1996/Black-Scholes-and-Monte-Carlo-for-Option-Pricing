{
 "cells": [
  {
   "cell_type": "code",
   "execution_count": 2,
   "metadata": {
    "id": "5-BvsSUTfiYw"
   },
   "outputs": [],
   "source": [
    "import numpy as np\n",
    "import numpy.random as npr\n",
    "from scipy.stats import norm"
   ]
  },
  {
   "cell_type": "markdown",
   "metadata": {
    "id": "_nKVw_H0dlb1"
   },
   "source": [
    "# Step 1"
   ]
  },
  {
   "cell_type": "markdown",
   "metadata": {
    "id": "NybXCvo2fWTB"
   },
   "source": [
    "## 1"
   ]
  },
  {
   "cell_type": "code",
   "execution_count": 15,
   "metadata": {
    "id": "3-aDSVpWfVB7"
   },
   "outputs": [],
   "source": [
    "def bs_call_price(S, r, sigma, t, T, K):\n",
    "    ttm = T - t\n",
    "    if ttm < 0:\n",
    "        return 0.0\n",
    "    elif ttm == 0.0:\n",
    "        return np.maximum(S - K, 0.0)\n",
    "\n",
    "    vol = sigma * np.sqrt(ttm)\n",
    "\n",
    "    d_plus = np.log(S / K) + (r - 0.5 * sigma**2) * ttm\n",
    "    d_plus /= vol\n",
    "\n",
    "    d_minus = d_plus - vol\n",
    "\n",
    "    res = S * norm.cdf(d_plus)\n",
    "    res -= K * np.exp(-r * ttm) * norm.cdf(d_minus)\n",
    "\n",
    "    delta = norm.cdf(d_plus)\n",
    "    vega = S * norm.pdf(d_plus) * np.sqrt(T)\n",
    "\n",
    "    return res, delta, vega\n",
    "\n",
    "\n",
    "def bs_put_price(S, r, sigma, t, T, K):\n",
    "    ttm = T - t\n",
    "\n",
    "    if ttm < 0:\n",
    "        return 0.0\n",
    "    elif ttm == 0.0:\n",
    "        return np.maximum(K - S, 0.0)\n",
    "\n",
    "    vol = sigma * np.sqrt(ttm)\n",
    "\n",
    "    d_plus = np.log(S / K) + (r - 0.5 * sigma**2) * ttm\n",
    "    d_plus /= vol\n",
    "\n",
    "    d_minus = d_plus - vol\n",
    "\n",
    "    res = K * np.exp(-r * ttm) * norm.cdf(-d_minus)\n",
    "    res -= S * norm.cdf(-d_plus)\n",
    "\n",
    "    delta = - norm.cdf(-d_plus)\n",
    "    vega = S * norm.pdf(d_plus) * np.sqrt(T)\n",
    "\n",
    "    return res, delta, vega"
   ]
  },
  {
   "cell_type": "markdown",
   "metadata": {
    "id": "TE2WFEsvxxMC"
   },
   "source": [
    "The code defines two functions, bs_call_price and bs_put_price, to calculate option prices using the Black-Scholes model. Given input parameters, they compute time to maturity (ttm), volatility (vol), d_plus, and d_minus. Using these, they determine option prices based on the model's formulas, involving cumulative distribution functions (CDF) and probability density functions (PDF) of the standard normal distribution. The functions handle call and put options differently and return option prices, relevant CDF/PDF values, and intermediaries."
   ]
  },
  {
   "cell_type": "code",
   "execution_count": 16,
   "metadata": {
    "colab": {
     "base_uri": "https://localhost:8080/",
     "height": 0
    },
    "id": "vkT166-Zmzt5",
    "outputId": "2fdc8572-ea28-4de9-f5d1-88bba590c999"
   },
   "outputs": [
    {
     "name": "stdout",
     "output_type": "stream",
     "text": [
      "BS Analytical Call Price: 4.6\n",
      "BS Analytical Put Price: 3.35\n",
      "BS Analytical Call Delta: 0.53\n",
      "BS Analytical Put Delta: -0.47\n",
      "BS Analytical Call Vega: 19.89\n",
      "BS Analytical Put Vega: 19.89\n"
     ]
    }
   ],
   "source": [
    "bs_call, bs_call_delta, bs_call_vega = bs_call_price(100, .05, .2, 0, .25, 100)\n",
    "bs_put, bs_put_delta, bs_put_vega = bs_put_price(100, .05, .2, 0, .25, 100)\n",
    "print(\"BS Analytical Call Price: {}\\nBS Analytical Put Price: {}\\nBS Analytical Call Delta: {}\\nBS Analytical Put Delta: {}\\nBS Analytical Call Vega: {}\\nBS Analytical Put Vega: {}\".format(round(bs_call,2),round(bs_put,2),round(bs_call_delta,2),round(bs_put_delta,2), round(bs_call_vega,2),round(bs_put_vega,2)))"
   ]
  },
  {
   "cell_type": "markdown",
   "metadata": {
    "id": "dCTSBbu0yOmG"
   },
   "source": [
    "For call options:\n",
    "When dealing with call options, a positive delta signifies that as the underlying asset's price rises, the option's price will also increase. This stems from the fact that call options grant the holder the right to purchase the underlying asset. However, a negative delta is not applicable for call options since their delta ranges from 0 to 1, reflecting the likelihood of them expiring in-the-money.\n",
    "\n",
    "For put options:\n",
    "For put options, a positive delta isn't relevant. Instead, a negative delta signifies that as the price of the underlying asset falls, the option's price will rise. This happens because put options give the holder the right to sell the underlying asset at a set price. Just like with call options, a negative delta for put options reflects a range from -1 to 0, indicating the likelihood of expiring in-the-money.\n",
    "\n"
   ]
  },
  {
   "cell_type": "code",
   "execution_count": null,
   "metadata": {
    "colab": {
     "base_uri": "https://localhost:8080/"
    },
    "id": "ZoQM5GtaoMJc",
    "outputId": "2a1eebc2-0f03-415b-9d19-a71afea2b2d7"
   },
   "outputs": [
    {
     "name": "stdout",
     "output_type": "stream",
     "text": [
      "BS Analytical Call Price: 5.56\n",
      "BS Analytical Put Price: 4.32\n",
      "BS Analytical Call Delta: 0.51\n",
      "BS Analytical Put Delta: -0.49\n",
      "BS Analytical Call Vega: 19.93\n",
      "BS Analytical Put Vega: 19.93\n"
     ]
    }
   ],
   "source": [
    "bs_call_price_v25, bs_call_delta_v25, bs_call_vega_v25 = bs_call_price(100, .05, .25, 0, .25, 100)\n",
    "bs_put_price_v25, bs_put_delta_v25, bs_put_vega_v25 = bs_put_price(100, .05, .25, 0, .25, 100)\n",
    "print(\"BS Analytical Call Price: {}\\nBS Analytical Put Price: {}\\nBS Analytical Call Delta: {}\\nBS Analytical Put Delta: {}\\nBS Analytical Call Vega: {}\\nBS Analytical Put Vega: {}\".format(round(bs_call_price_v25,2),round(bs_put_price_v25,2),round(bs_call_delta_v25,2),round(bs_put_delta_v25,2), round(bs_call_vega_v25,2),round(bs_put_vega_v25,2)))"
   ]
  },
  {
   "cell_type": "markdown",
   "metadata": {
    "id": "I27pmTmQy1XU"
   },
   "source": [
    "Volatility changes impact call and put options differently. An increase in volatility generally benefits both options, raising their premiums. However, this effect is more pronounced for options that are out-of-the-money (OTM), as they have higher potential for larger price swings. In contrast, in-the-money (ITM) options' premiums are less influenced by volatility changes due to their intrinsic value being dominant."
   ]
  },
  {
   "cell_type": "markdown",
   "metadata": {
    "id": "jkCPrZY_9YIl"
   },
   "source": [
    "## 2"
   ]
  },
  {
   "cell_type": "code",
   "execution_count": null,
   "metadata": {
    "id": "Y1QqfcdT9W7q"
   },
   "outputs": [],
   "source": [
    "def bs_call_mc(S, K, r, sigma, T, t, Ite):\n",
    "    data = np.zeros((Ite, 2))\n",
    "    z = np.random.normal(0, 1, [1, Ite])\n",
    "    ST = S * np.exp((T - t) * (r - 0.5 * sigma**2) + sigma * np.sqrt(T - t) * z)\n",
    "    data[:, 1] = ST - K\n",
    "\n",
    "    average = np.sum(np.amax(data, axis=1)) / float(Ite)\n",
    "\n",
    "    return np.exp(-r * (T - t)) * average\n",
    "\n",
    "def bs_put_mc(S, K, r, sigma, T, t, Ite):\n",
    "    data = np.zeros((Ite, 2))\n",
    "    z = np.random.normal(0, 1, [1, Ite])\n",
    "    ST = S * np.exp((T - t) * (r - 0.5 * sigma**2) + sigma * np.sqrt(T - t) * z)\n",
    "    data[:, 1] = K - ST\n",
    "\n",
    "    average = np.sum(np.amax(data, axis=1)) / float(Ite)\n",
    "\n",
    "    return np.exp(-r * (T - t)) * average"
   ]
  },
  {
   "cell_type": "code",
   "execution_count": null,
   "metadata": {
    "colab": {
     "base_uri": "https://localhost:8080/"
    },
    "id": "azSGXm9S_dMe",
    "outputId": "6cc02312-157b-4f8e-ce82-007fa7908024"
   },
   "outputs": [
    {
     "name": "stdout",
     "output_type": "stream",
     "text": [
      "Monte Carlo Call Price: 4.6\n"
     ]
    }
   ],
   "source": [
    "np.random.seed(2)\n",
    "print(\"Monte Carlo Call Price:\", round(bs_call_mc(100, 100, 0.05, 0.2, 3/12, 0, 100000),2))"
   ]
  },
  {
   "cell_type": "code",
   "execution_count": null,
   "metadata": {
    "colab": {
     "base_uri": "https://localhost:8080/"
    },
    "id": "XEjjLCUf_dEO",
    "outputId": "ad2a7fa6-da70-40cd-c193-0609986ea94b"
   },
   "outputs": [
    {
     "name": "stdout",
     "output_type": "stream",
     "text": [
      "Monte Carlo Put Price: 3.39\n"
     ]
    }
   ],
   "source": [
    "np.random.seed(2)\n",
    "print(\"Monte Carlo Put Price:\", round(bs_put_mc(100, 100, 0.05, 0.2, 3/12, 0, 100000),2))"
   ]
  },
  {
   "cell_type": "markdown",
   "metadata": {
    "id": "-7hGBlVH_-e3"
   },
   "source": [
    "For the Monte-Carlo simulation of the call and put option prices, we decided to use 100000 simulations as it was the approach used in jupyter notebook lesson notes and also because industry practices advice to use at least 10000 simulations to get an option price which is as close as possible to the price obtained in previous point of this Step 1."
   ]
  },
  {
   "cell_type": "code",
   "execution_count": null,
   "metadata": {
    "id": "TaB3j6rkCKpE"
   },
   "outputs": [],
   "source": [
    "def delta_call_mc(S, K, r, sigma, T, num_simulations, delta_S):\n",
    "\n",
    "    np.random.seed(2)\n",
    "    original_price = bs_call_mc(S, K, r, sigma, T, 0, num_simulations)\n",
    "    new_price = bs_call_mc(S + delta_S, K, r, sigma, T, 0, num_simulations)\n",
    "    delta = (new_price - original_price) / delta_S\n",
    "    return delta"
   ]
  },
  {
   "cell_type": "code",
   "execution_count": null,
   "metadata": {
    "colab": {
     "base_uri": "https://localhost:8080/"
    },
    "id": "Hew7moaiDSgS",
    "outputId": "03a96a6b-b82b-4156-c1d2-6a7f240b4273"
   },
   "outputs": [
    {
     "name": "stdout",
     "output_type": "stream",
     "text": [
      "Delta of the Call Option: 0.15\n"
     ]
    }
   ],
   "source": [
    "print(\"Delta of the Call Option:\", round(delta_call_mc(100, 100, 0.05, 0.2, 3/12, 100000, 0.01),2))"
   ]
  },
  {
   "cell_type": "code",
   "execution_count": null,
   "metadata": {
    "id": "XjQTQ4BnYmIn"
   },
   "outputs": [],
   "source": [
    "def delta_put_mc(S, K, r, sigma, T, num_simulations, delta_S):\n",
    "\n",
    "    np.random.seed(2)\n",
    "    original_price = bs_put_mc(S, K, r, sigma, T, 0, num_simulations)\n",
    "    new_price = bs_put_mc(S + delta_S, K, r, sigma, T, 0, num_simulations)\n",
    "    delta = (new_price - original_price) / delta_S\n",
    "    return delta"
   ]
  },
  {
   "cell_type": "code",
   "execution_count": null,
   "metadata": {
    "colab": {
     "base_uri": "https://localhost:8080/"
    },
    "id": "JMCWPzqvICsP",
    "outputId": "ab529dc9-b81f-415d-dae4-3d2a2460e38e"
   },
   "outputs": [
    {
     "name": "stdout",
     "output_type": "stream",
     "text": [
      "Delta of the Put Option: -5.82\n"
     ]
    }
   ],
   "source": [
    "print(\"Delta of the Put Option:\", round(delta_put_mc(100, 100, 0.05, 0.2, 3/12, 100000, 0.01),2))"
   ]
  },
  {
   "cell_type": "markdown",
   "metadata": {
    "id": "IASjTVtPiLCJ"
   },
   "source": [
    "As expected, the delta of the call option is a positive value, while the delta for the put option is a negative value. While the delta for the call under Monte-Carlo method (0.15) is not so far from the delta for the call calculated under Black-Scholes model (0.53), the delta for the put option under Monte-Carlo (-5.82) is significantly far from the delta for the put under Black-Scholes (-0.47) and this is probably due to the same reasons observed for Put-Call parity condition below. Also, when the volatility increases then the delta of a put option decreases and given that underlying asset price change and volatility have a directly proportional effect on the option price, this is why we observed such a difference in the delta of the put option price after shocking the underlying asset price."
   ]
  },
  {
   "cell_type": "code",
   "execution_count": null,
   "metadata": {
    "colab": {
     "base_uri": "https://localhost:8080/"
    },
    "id": "_o0AgLY1R_tG",
    "outputId": "7f790c02-b7a5-45e9-e482-0f8ec3872ef9"
   },
   "outputs": [
    {
     "name": "stdout",
     "output_type": "stream",
     "text": [
      "Monte Carlo Call Price: 5.59\n"
     ]
    }
   ],
   "source": [
    "# Volatility parameter shocked\n",
    "np.random.seed(2)\n",
    "print(\"Monte Carlo Call Price:\", round(bs_call_mc(100, 100, 0.05, 0.25, 3/12, 0, 100000),2))"
   ]
  },
  {
   "cell_type": "code",
   "execution_count": null,
   "metadata": {
    "colab": {
     "base_uri": "https://localhost:8080/"
    },
    "id": "fIs9u5trR_g6",
    "outputId": "fdc4a9be-1c0e-4a20-d8e5-8ef002bf2b4e"
   },
   "outputs": [
    {
     "name": "stdout",
     "output_type": "stream",
     "text": [
      "Monte Carlo Put Price: 4.38\n"
     ]
    }
   ],
   "source": [
    "np.random.seed(2)\n",
    "print(\"Monte Carlo Put Price:\", round(bs_put_mc(100, 100, 0.05, 0.25, 3/12, 0, 100000),2))"
   ]
  },
  {
   "cell_type": "markdown",
   "metadata": {
    "id": "569TMaw7i3GB"
   },
   "source": [
    "Theoretically, an increase in volatility should produce an increase in the price of the option, both for calls and puts. In fact, shocking the volatility from 0.20 to 0.25, we observed an increase in the call option price (from 4.6 to 5.59) and an increase in the put option price as well (from 3.39 to 4.38)."
   ]
  },
  {
   "cell_type": "markdown",
   "metadata": {
    "id": "XmittietSH9v"
   },
   "source": [
    "## 3"
   ]
  },
  {
   "cell_type": "markdown",
   "metadata": {
    "id": "MLitXn0qSJ9_"
   },
   "source": [
    "### a"
   ]
  },
  {
   "cell_type": "code",
   "execution_count": null,
   "metadata": {
    "colab": {
     "base_uri": "https://localhost:8080/"
    },
    "id": "cGwm3KyqSL-U",
    "outputId": "42ba925d-1c2b-4cda-c17b-e52cd1e7fd40"
   },
   "outputs": [
    {
     "data": {
      "text/plain": [
       "True"
      ]
     },
     "execution_count": 8,
     "metadata": {},
     "output_type": "execute_result"
    }
   ],
   "source": [
    "# Put-Call parity under Black-Scholes method\n",
    "round(4.59 + 100 * np.exp(-0.05 * (3/12)), 2) == round(100 + 3.35, 2)"
   ]
  },
  {
   "cell_type": "markdown",
   "metadata": {
    "id": "qBw0CXlqSPGY"
   },
   "source": [
    "Put-Call Parity condition is satisfied in the case of Black-Scholes model."
   ]
  },
  {
   "cell_type": "code",
   "execution_count": null,
   "metadata": {
    "id": "j6Ke0DkLSRhK"
   },
   "outputs": [],
   "source": [
    "# Put-Call parity under Monte-Carlo method\n",
    "round(4.6 + 100 * np.exp(-0.05 * (3/12)), 2) == round(100 + 3.39, 2)"
   ]
  },
  {
   "cell_type": "markdown",
   "metadata": {
    "id": "tARgm_opSWTh"
   },
   "source": [
    "Put-Call Parity condition is not satisfied in the case of Monte-Carlo method but this is probably due to the probabilistic nature of this model and also due to the fact that this method introduces some additional randomness."
   ]
  },
  {
   "cell_type": "markdown",
   "metadata": {
    "id": "zskD3H67SaWG"
   },
   "source": [
    "### b\n",
    "\n",
    "Prices obtained via Monte-Carlo methods (4.6 for the call and 3.39 for the put) are reasonably close to the prices obtained via Black-Scholes method (4.59 for the call and 3.35 for the put). This is probably due to the fact that we considered a significantly large number of iterations, which allowed us to get really close to the price calculated by Black-Scholes model."
   ]
  },
  {
   "cell_type": "markdown",
   "metadata": {
    "id": "WHjPaAJiujNc"
   },
   "source": [
    "# Step 2"
   ]
  },
  {
   "cell_type": "markdown",
   "metadata": {
    "id": "bdYx1hPeuy7X"
   },
   "source": [
    "## 4"
   ]
  },
  {
   "cell_type": "code",
   "execution_count": 5,
   "metadata": {
    "colab": {
     "base_uri": "https://localhost:8080/",
     "height": 0
    },
    "id": "OkWOdyI5A035",
    "outputId": "f619eb1b-fc4a-4ff6-bf98-90e2f666c1bd"
   },
   "outputs": [
    {
     "name": "stdout",
     "output_type": "stream",
     "text": [
      "American call option price: 8.67\n"
     ]
    }
   ],
   "source": [
    "def american_option_price_gbm(S0, K, T, r, sigma, n_steps, option_type='call', n_paths=100000):\n",
    "    dt = T / n_steps\n",
    "    paths = np.zeros((n_paths, n_steps+1))\n",
    "    paths[:, 0] = S0\n",
    "\n",
    "    for i in range(n_steps):\n",
    "        paths[:, i+1] = paths[:, i] * np.exp((r - 0.5 * sigma**2) * dt + sigma * np.sqrt(dt) * npr.standard_normal(n_paths))\n",
    "\n",
    "    if option_type == 'call':\n",
    "        payoff = np.maximum(paths - K, 0)\n",
    "    else:\n",
    "        payoff = np.maximum(K - paths, 0)\n",
    "\n",
    "    option_price = np.zeros(n_paths)\n",
    "    option_value = payoff[:, -1]\n",
    "\n",
    "    for i in range(n_steps-1, -1, -1):\n",
    "        discount_factor = np.exp(-r * dt)\n",
    "        option_value = np.maximum(payoff[:, i], option_value * discount_factor)\n",
    "\n",
    "\n",
    "    option_price = np.mean(option_value)\n",
    "    return option_price\n",
    "\n",
    "\n",
    "# Compute American call option price\n",
    "american_call_price = american_option_price_gbm(100, 100, .25, .05, .2, 1000, option_type='call')\n",
    "print(f\"American call option price: {american_call_price:.2f}\")"
   ]
  },
  {
   "cell_type": "markdown",
   "metadata": {
    "id": "4EqytxPHSc6J"
   },
   "source": [
    "The code is for estimating the price of an American option using the Geometric Brownian Motion model and Monte Carlo simulation. It models possible asset price paths, calculates payoffs at expiration, evaluates option values through backward steps, averages results across simulations, and returns the estimated option price."
   ]
  },
  {
   "cell_type": "code",
   "execution_count": 13,
   "metadata": {
    "colab": {
     "base_uri": "https://localhost:8080/",
     "height": 0
    },
    "id": "_11Ht7Sw3mwC",
    "outputId": "148fdcd0-7b08-4ab4-e49d-bc04bf66ade7"
   },
   "outputs": [
    {
     "data": {
      "text/plain": [
       "0.9"
      ]
     },
     "execution_count": 13,
     "metadata": {},
     "output_type": "execute_result"
    }
   ],
   "source": [
    "delta = (american_option_price_gbm(100.1, 100, .25, .05, .2, 1000, option_type='call') - american_call_price) / (.1)\n",
    "round(delta,2)"
   ]
  },
  {
   "cell_type": "markdown",
   "metadata": {
    "id": "gOEw0qawTtag"
   },
   "source": [
    "The delta of a call option is positive because call options increase in value as the underlying asset's price rises. This is due to the profit potential from upward price movements, leverage, positive correlation between option and asset prices, and the option's ability to finish in-the-money. This positive delta also aids in hedging and managing portfolios."
   ]
  },
  {
   "cell_type": "code",
   "execution_count": 8,
   "metadata": {
    "colab": {
     "base_uri": "https://localhost:8080/",
     "height": 0
    },
    "id": "xqokWddkTElm",
    "outputId": "9f858d0a-5dc6-4729-aa4a-460175d933f1"
   },
   "outputs": [
    {
     "name": "stdout",
     "output_type": "stream",
     "text": [
      "American call option price (sigma 0.25): 10.69\n"
     ]
    }
   ],
   "source": [
    "american_call_price_v20 = american_option_price_gbm(100, 100, .25, .05, .25, 1000, option_type='call')\n",
    "print(f\"American call option price (sigma 0.25): {american_call_price_v20:.2f}\")"
   ]
  },
  {
   "cell_type": "markdown",
   "metadata": {
    "id": "rGEUv3crTw-I"
   },
   "source": [
    "Higher volatility boosts premiums for both call and put options. OTM options gain more as they thrive on significant price swings, while ITM options are less influenced due to existing intrinsic value."
   ]
  },
  {
   "cell_type": "markdown",
   "metadata": {
    "id": "zAZELPm-0JZN"
   },
   "source": [
    "## 5"
   ]
  },
  {
   "cell_type": "code",
   "execution_count": null,
   "metadata": {
    "colab": {
     "base_uri": "https://localhost:8080/"
    },
    "id": "GNZdumhJ-iED",
    "outputId": "7326e9d4-b383-4484-b756-7fc26a05a657"
   },
   "outputs": [
    {
     "name": "stdout",
     "output_type": "stream",
     "text": [
      "Estimated American Put Option Price: 6.45\n",
      "Estimated Delta: -0.13036226086254754\n"
     ]
    }
   ],
   "source": [
    "S0 = 100\n",
    "K = 100\n",
    "r = 0.05\n",
    "T = 3/12\n",
    "sigma = 0.2\n",
    "Ite = 100000\n",
    "N = int(T * 252)  # 252 trading days per year, we choose the number of steps in this way so that we have daily time steps\n",
    "\n",
    "# Generate random paths\n",
    "dt = T/N\n",
    "rand = np.random.normal(0, 1, (N, Ite)) # allocating memory for random normal shocks\n",
    "paths = np.zeros((N + 1, Ite)) # allocating memory for stock price behavior\n",
    "paths[0, :] = S0\n",
    "for t in range(1, N + 1):\n",
    "    paths[t, :] = paths[t - 1, :] * np.exp((r - 0.5 * sigma**2) * dt + sigma * np.sqrt(dt) * rand[t - 1, :])\n",
    "\n",
    "# Calculate option payoffs\n",
    "payoffs = np.maximum(K - paths, 0)\n",
    "\n",
    "# Backward induction for option price and delta\n",
    "option_values = np.zeros_like(payoffs)\n",
    "option_values[-1, :] = payoffs[-1, :]\n",
    "for t in range(N - 1, 0, -1):\n",
    "    intrinsic_values = np.maximum(K - paths[t, :], 0)\n",
    "    early_exercise_values = np.maximum(intrinsic_values, option_values[t + 1, :] * np.exp(-r * dt))\n",
    "    option_values[t, :] = early_exercise_values\n",
    "\n",
    "# Estimate option price and delta\n",
    "option_price = np.mean(option_values[1, :] * np.exp(-r * dt))\n",
    "delta_S = 1.0\n",
    "delta = (option_values[1, 1] - option_values[1, 0]) / (delta_S * S0)\n",
    "\n",
    "print(\"Estimated American Put Option Price:\", round(option_price,2))\n",
    "print(\"Estimated Delta:\", delta)"
   ]
  },
  {
   "cell_type": "markdown",
   "metadata": {
    "id": "oGLiCxkRCiil"
   },
   "source": [
    "The result for Delta looks reasonable (-0.13), given that it is a negative value (it means that we will have to short-sell that quantity of shares of the underlying asset at the beginning of the strategy). Also, the price of the American Put option (6.45) looks reasonable if we compare it with the ones for European put option calculated via Black-Scholes Model (3.35) and Monte-Carlo (3.39), because the price of an American option should always be higher than or equal to the price of the European corresponding option, due to the early exercise option."
   ]
  },
  {
   "cell_type": "code",
   "execution_count": null,
   "metadata": {
    "colab": {
     "base_uri": "https://localhost:8080/"
    },
    "id": "BzbL22YLCjLt",
    "outputId": "1e0329b5-4faf-4c3b-d391-e7e17e9eaddc"
   },
   "outputs": [
    {
     "name": "stdout",
     "output_type": "stream",
     "text": [
      "Estimated American Put Option Price: 8.17\n"
     ]
    }
   ],
   "source": [
    "# Volatility parameter shocked\n",
    "np.random.seed(2)\n",
    "S0 = 100\n",
    "K = 100\n",
    "r = 0.05\n",
    "T = 3/12\n",
    "sigma = 0.25\n",
    "Ite = 100000\n",
    "N = int(T * 252)  # 252 trading days per year, we choose the number of steps in this way so that we have daily time steps\n",
    "\n",
    "# Generate random paths\n",
    "dt = T/N\n",
    "rand = np.random.normal(0, 1, (N, Ite)) # allocating memory for random normal shocks\n",
    "paths = np.zeros((N + 1, Ite)) # allocating memory for stock price behavior\n",
    "paths[0, :] = S0\n",
    "for t in range(1, N + 1):\n",
    "    paths[t, :] = paths[t - 1, :] * np.exp((r - 0.5 * sigma**2) * dt + sigma * np.sqrt(dt) * rand[t - 1, :])\n",
    "\n",
    "# Calculate option payoffs\n",
    "payoffs = np.maximum(K - paths, 0)\n",
    "\n",
    "# Backward induction for option price and delta\n",
    "option_values = np.zeros_like(payoffs)\n",
    "option_values[-1, :] = payoffs[-1, :]\n",
    "for t in range(N - 1, 0, -1):\n",
    "    intrinsic_values = np.maximum(K - paths[t, :], 0)\n",
    "    early_exercise_values = np.maximum(intrinsic_values, option_values[t + 1, :] * np.exp(-r * dt))\n",
    "    option_values[t, :] = early_exercise_values\n",
    "\n",
    "# Estimate option price and delta\n",
    "option_price = np.mean(option_values[1, :] * np.exp(-r * dt))\n",
    "\n",
    "print(\"Estimated American Put Option Price:\", round(option_price,2))"
   ]
  },
  {
   "cell_type": "markdown",
   "metadata": {
    "id": "9kitmDn8ELEN"
   },
   "source": [
    "As expected and as in the previous cases with european call and put options, if we increase the volatility we would expect to see an increase in the option in price: in fact, by increasing the volatility from 0.20 to 0.25, the american put option price increased from 6.45 to 8.17."
   ]
  },
  {
   "cell_type": "markdown",
   "metadata": {
    "id": "8FRGLK0yEikn"
   },
   "source": [
    "## 6"
   ]
  },
  {
   "cell_type": "markdown",
   "metadata": {
    "id": "UTCKeL3Fdd2H"
   },
   "source": [
    "### a"
   ]
  },
  {
   "cell_type": "markdown",
   "metadata": {
    "id": "MP_ly1i8eRHe"
   },
   "source": [
    "### CALL"
   ]
  },
  {
   "cell_type": "code",
   "execution_count": null,
   "metadata": {
    "colab": {
     "base_uri": "https://localhost:8080/"
    },
    "id": "eNPkxl9dEljm",
    "outputId": "41baa4a5-93af-4a17-c285-b7a20fc1ad3e"
   },
   "outputs": [
    {
     "name": "stdout",
     "output_type": "stream",
     "text": [
      "Option Price: 18.0\n"
     ]
    }
   ],
   "source": [
    "np.random.seed(2)\n",
    "option_price, deltas = american_option_price_and_delta_gbm(100, 90, 3/12, 0.05, 0.2, int((3/12) * 252), 'call', 100000)\n",
    "print(\"Option Price:\", round(option_price,2))"
   ]
  },
  {
   "cell_type": "code",
   "execution_count": null,
   "metadata": {
    "colab": {
     "base_uri": "https://localhost:8080/"
    },
    "id": "epFZl8RVdQ5d",
    "outputId": "f595b86b-f909-47a2-8f32-9a3fb0852f12"
   },
   "outputs": [
    {
     "name": "stdout",
     "output_type": "stream",
     "text": [
      "Option Price: 13.04\n"
     ]
    }
   ],
   "source": [
    "np.random.seed(2)\n",
    "option_price, deltas = american_option_price_and_delta_gbm(100, 95, 3/12, 0.05, 0.2, int((3/12) * 252), 'call', 100000)\n",
    "print(\"Option Price:\", round(option_price,2))"
   ]
  },
  {
   "cell_type": "code",
   "execution_count": null,
   "metadata": {
    "colab": {
     "base_uri": "https://localhost:8080/"
    },
    "id": "gQVpJI9ZdQwk",
    "outputId": "55a08439-2032-4210-f95e-2e0eb98adcb2"
   },
   "outputs": [
    {
     "name": "stdout",
     "output_type": "stream",
     "text": [
      "Option Price: 8.07\n"
     ]
    }
   ],
   "source": [
    "np.random.seed(2)\n",
    "option_price, deltas = american_option_price_and_delta_gbm(100, 100, 3/12, 0.05, 0.2, int((3/12) * 252), 'call', 100000)\n",
    "print(\"Option Price:\", round(option_price,2))"
   ]
  },
  {
   "cell_type": "code",
   "execution_count": null,
   "metadata": {
    "colab": {
     "base_uri": "https://localhost:8080/"
    },
    "id": "wqwxp3MKdQF_",
    "outputId": "b399542f-51aa-4a47-fef8-3c8d49a9e5b4"
   },
   "outputs": [
    {
     "name": "stdout",
     "output_type": "stream",
     "text": [
      "Option Price: 4.26\n"
     ]
    }
   ],
   "source": [
    "np.random.seed(2)\n",
    "option_price, deltas = american_option_price_and_delta_gbm(100, 105, 3/12, 0.05, 0.2, int((3/12) * 252), 'call', 100000)\n",
    "print(\"Option Price:\", round(option_price,2))"
   ]
  },
  {
   "cell_type": "code",
   "execution_count": null,
   "metadata": {
    "colab": {
     "base_uri": "https://localhost:8080/"
    },
    "id": "nhMPK4QRdPo3",
    "outputId": "01c6e4ed-c2b9-4d65-b60f-c0a0b44b3f3a"
   },
   "outputs": [
    {
     "name": "stdout",
     "output_type": "stream",
     "text": [
      "Option Price: 2.0\n"
     ]
    }
   ],
   "source": [
    "np.random.seed(2)\n",
    "option_price, deltas = american_option_price_and_delta_gbm(100, 110, 3/12, 0.05, 0.2, int((3/12) * 252), 'call', 100000)\n",
    "print(\"Option Price:\", round(option_price,2))"
   ]
  },
  {
   "cell_type": "markdown",
   "metadata": {
    "id": "y3sio75_dbrh"
   },
   "source": [
    "If the strike price increases, the call option will go out of the money and the call option price should be lower, in order to reward the investor for a more difficult situation than when the option is in the money. In fact, calculating the American call option prices for different strike prices we observed that the higher the strike price the lower the american call option price, so it makes sense."
   ]
  },
  {
   "cell_type": "markdown",
   "metadata": {
    "id": "QyNPpXoIeNkV"
   },
   "source": [
    "### PUT"
   ]
  },
  {
   "cell_type": "code",
   "execution_count": null,
   "metadata": {
    "id": "aiGjD9V0eP9A"
   },
   "outputs": [],
   "source": [
    "def am_put_price(S0, K, r, sigma, T, Ite, N):\n",
    "  # Generate random paths\n",
    "  dt = T/N\n",
    "  rand = np.random.normal(0, 1, (N, Ite)) # allocating memory for random normal shocks\n",
    "  paths = np.zeros((N + 1, Ite)) # allocating memory for stock price behavior\n",
    "  paths[0, :] = S0\n",
    "  for t in range(1, N + 1):\n",
    "    paths[t, :] = paths[t - 1, :] * np.exp((r - 0.5 * sigma**2) * dt + sigma * np.sqrt(dt) * rand[t - 1, :])\n",
    "\n",
    "  # Calculate option payoffs\n",
    "  payoffs = np.maximum(K - paths, 0)\n",
    "\n",
    "  # Backward induction for option price and delta\n",
    "  option_values = np.zeros_like(payoffs)\n",
    "  option_values[-1, :] = payoffs[-1, :]\n",
    "  for t in range(N - 1, 0, -1):\n",
    "    intrinsic_values = np.maximum(K - paths[t, :], 0)\n",
    "    early_exercise_values = np.maximum(intrinsic_values, option_values[t + 1, :] * np.exp(-r * dt))\n",
    "    option_values[t, :] = early_exercise_values\n",
    "\n",
    "  # Estimate option price and delta\n",
    "  option_price = np.mean(option_values[1, :] * np.exp(-r * dt))\n",
    "\n",
    "  print(\"Estimated American Put Option Price:\", round(option_price,2))"
   ]
  },
  {
   "cell_type": "code",
   "execution_count": null,
   "metadata": {
    "colab": {
     "base_uri": "https://localhost:8080/"
    },
    "id": "JFADR_tdeP0Q",
    "outputId": "2e871183-a765-4572-cce3-bf042e93b018"
   },
   "outputs": [
    {
     "name": "stdout",
     "output_type": "stream",
     "text": [
      "Estimated American Put Option Price: 1.07\n"
     ]
    }
   ],
   "source": [
    "np.random.seed(2)\n",
    "am_put_price(100, 90, 0.05, 0.2, 3/12, 100000, int(T * 252))"
   ]
  },
  {
   "cell_type": "code",
   "execution_count": null,
   "metadata": {
    "colab": {
     "base_uri": "https://localhost:8080/"
    },
    "id": "Ze9bt7zyePqG",
    "outputId": "87f7e20e-dbd1-49ef-9ffb-470ef07cbac0"
   },
   "outputs": [
    {
     "name": "stdout",
     "output_type": "stream",
     "text": [
      "Estimated American Put Option Price: 3.02\n"
     ]
    }
   ],
   "source": [
    "np.random.seed(2)\n",
    "am_put_price(100, 95, 0.05, 0.2, 3/12, 100000, int(T * 252))"
   ]
  },
  {
   "cell_type": "code",
   "execution_count": null,
   "metadata": {
    "colab": {
     "base_uri": "https://localhost:8080/"
    },
    "id": "1nDykg9qePg-",
    "outputId": "8e62f945-adfe-4c3a-e582-c3b3b9c86eaa"
   },
   "outputs": [
    {
     "name": "stdout",
     "output_type": "stream",
     "text": [
      "Estimated American Put Option Price: 6.79\n"
     ]
    }
   ],
   "source": [
    "np.random.seed(2)\n",
    "am_put_price(100, 100, 0.05, 0.2, 3/12, 100000, int(T * 252))"
   ]
  },
  {
   "cell_type": "code",
   "execution_count": null,
   "metadata": {
    "colab": {
     "base_uri": "https://localhost:8080/"
    },
    "id": "tRlUllEnePU0",
    "outputId": "228fe26c-4880-496d-d0d6-de834ac7a1d0"
   },
   "outputs": [
    {
     "name": "stdout",
     "output_type": "stream",
     "text": [
      "Estimated American Put Option Price: 11.74\n"
     ]
    }
   ],
   "source": [
    "np.random.seed(2)\n",
    "am_put_price(100, 105, 0.05, 0.2, 3/12, 100000, int(T * 252))"
   ]
  },
  {
   "cell_type": "code",
   "execution_count": null,
   "metadata": {
    "colab": {
     "base_uri": "https://localhost:8080/"
    },
    "id": "PvOdONh4gYeU",
    "outputId": "fdf49b40-5483-4da4-a92c-9d4be60359fe"
   },
   "outputs": [
    {
     "name": "stdout",
     "output_type": "stream",
     "text": [
      "Estimated American Put Option Price: 16.71\n"
     ]
    }
   ],
   "source": [
    "np.random.seed(2)\n",
    "am_put_price(100, 110, 0.05, 0.2, 3/12, 100000, int(T * 252))"
   ]
  },
  {
   "cell_type": "markdown",
   "metadata": {
    "id": "zATefNy4gc3j"
   },
   "source": [
    "On the contrary, for put options we would expect the following: if the strike price increases then the put option goes in the money, when the underlying asset value is lower than the strike price, and this would lead to a higher price for the put option. In fact, calculating american put option prices for different strike prices we observed that the higher the strike price the higher the put option price and so it makes sense."
   ]
  },
  {
   "cell_type": "markdown",
   "metadata": {
    "id": "Rhm575wxiRdj"
   },
   "source": [
    "### b"
   ]
  },
  {
   "cell_type": "code",
   "execution_count": null,
   "metadata": {
    "colab": {
     "base_uri": "https://localhost:8080/",
     "height": 564
    },
    "id": "4HujJdDDiTIa",
    "outputId": "fba063dc-eea7-481f-d0e7-6696e68df87d"
   },
   "outputs": [
    {
     "data": {
      "image/png": "[encoded data removed]",
      "text/plain": [
       "<Figure size 1000x600 with 1 Axes>"
      ]
     },
     "metadata": {},
     "output_type": "display_data"
    }
   ],
   "source": [
    "import matplotlib.pyplot as plt\n",
    "\n",
    "# Calls\n",
    "K = [90, 95, 100, 105, 110]\n",
    "call_prices = [18.0, 13.04, 8.07, 4.26, 2.0]\n",
    "\n",
    "# Plot\n",
    "plt.figure(figsize=(10, 6))\n",
    "plt.plot(K, call_prices, label='Call Option')\n",
    "plt.xlabel('Strike Price')\n",
    "plt.ylabel('Option Price')\n",
    "plt.title('Call Option Price vs Moneyness')\n",
    "plt.legend()\n",
    "plt.grid(True)\n",
    "plt.show()\n"
   ]
  },
  {
   "cell_type": "code",
   "execution_count": null,
   "metadata": {
    "colab": {
     "base_uri": "https://localhost:8080/",
     "height": 564
    },
    "id": "QF75AZrejZgS",
    "outputId": "f417aa31-aad4-4587-c2b7-45c8e347a931"
   },
   "outputs": [
    {
     "data": {
      "image/png": "[encoded data removed]",
      "text/plain": [
       "<Figure size 1000x600 with 1 Axes>"
      ]
     },
     "metadata": {},
     "output_type": "display_data"
    }
   ],
   "source": [
    "# Puts\n",
    "K = [90, 95, 100, 105, 110]\n",
    "put_prices = [1.07, 3.02, 6.79, 11.74, 16.71]\n",
    "\n",
    "# Plot\n",
    "plt.figure(figsize=(10, 6))\n",
    "plt.plot(K, put_prices, label='Put Option')\n",
    "plt.xlabel('Strike Price')\n",
    "plt.ylabel('Option Price')\n",
    "plt.title('Put Option Price vs Moneyness')\n",
    "plt.legend()\n",
    "plt.grid(True)\n",
    "plt.show()\n"
   ]
  },
  {
   "cell_type": "markdown",
   "metadata": {
    "id": "ZZKTsg8zgrbZ"
   },
   "source": [
    "#Step 3"
   ]
  },
  {
   "cell_type": "markdown",
   "metadata": {
    "id": "kL_QtAmdkQFQ"
   },
   "source": [
    "## 7.a"
   ]
  },
  {
   "cell_type": "code",
   "execution_count": null,
   "metadata": {
    "colab": {
     "base_uri": "https://localhost:8080/"
    },
    "id": "1udyB1jTgtD8",
    "outputId": "50fa20be-7abb-42bb-bbbd-5d1d0cd40ef9"
   },
   "outputs": [
    {
     "name": "stdout",
     "output_type": "stream",
     "text": [
      "BS Analytical Call Price: 1.18\n",
      "BS Analytical Put Price: 1.52\n",
      "BS Analytical Call Delta: 0.19\n",
      "BS Analytical Put Delta: -0.28\n",
      "BS Analytical Call Vega: 13.57\n",
      "BS Analytical Put Vega: 16.78\n"
     ]
    }
   ],
   "source": [
    "bs_call, bs_call_delta, vega1 = bs_call_price(100, .05, .2, 0, .25, 110)\n",
    "bs_put, bs_put_delta, vega2 = bs_put_price(100, .05, .2, 0, .25, 95)\n",
    "print(\"BS Analytical Call Price: {}\\nBS Analytical Put Price: {}\\nBS Analytical Call Delta: {}\\nBS Analytical Put Delta: {}\\nBS Analytical Call Vega: {}\\nBS Analytical Put Vega: {}\".format(round(bs_call,2),round(bs_put,2),round(bs_call_delta,2),round(bs_put_delta,2), round(vega1,2),round(vega2,2)))"
   ]
  },
  {
   "cell_type": "markdown",
   "metadata": {
    "id": "dt8hTwvk1rHu"
   },
   "source": [
    "Since we are shorting the put we will change the sign of the delta to \"0.28\"."
   ]
  },
  {
   "cell_type": "markdown",
   "metadata": {
    "id": "GMQ8n0InkT9n"
   },
   "source": [
    "## 7.b"
   ]
  },
  {
   "cell_type": "markdown",
   "metadata": {
    "id": "A25BnUqbhLBd"
   },
   "source": [
    "Strangle\n",
    "\n",
    "When the stock price is between the strike prices of the strangle the deltas offset each other. The portfolio's overall delta is generally the sum of the individual options' deltas. Delta measures the sensitivity of an option's price to changes in the underlying asset's price. Since the delta of an option ranges from -1 to 1 for a single option, the sum of the deltas of multiple options in a portfolio can give you an indication of how the overall portfolio value might change with small changes in the underlying asset's price.\n",
    "\n",
    "To delta hedge, we will sell the underlying as the price increase and buy it as it decreases.\n",
    "\n",
    "Keep in mind that this assumes the options in the portfolio are not highly correlated and that the prices of the underlying assets are changing by small amounts. If the options in the portfolio have significantly different expiration dates, strikes, or other factors, the relationship might be more complex. Additionally, if the portfolio includes other types of securities or positions, the calculation of the portfolio's overall delta could become more intricate."
   ]
  },
  {
   "cell_type": "markdown",
   "metadata": {
    "id": "LLqMpygwkWK_"
   },
   "source": [
    "## 7.c"
   ]
  },
  {
   "cell_type": "markdown",
   "metadata": {
    "id": "-XNNI0o-kZG2"
   },
   "source": [
    "If we buy a call and sell a put, where the call strike is bigger than the put strike, our delta will always be positive as the sum of two positive numbers is always positive. We would need to compute our delta and adjust our stock position, mainly near the strikes."
   ]
  },
  {
   "cell_type": "markdown",
   "metadata": {
    "id": "itUO11crkbzB"
   },
   "source": [
    "## 8"
   ]
  },
  {
   "cell_type": "code",
   "execution_count": null,
   "metadata": {
    "id": "XKGSg2Ykkemx"
   },
   "outputs": [],
   "source": [
    "def UAO_price(S0, K, r, sigma, T, Ite, N, barrier):\n",
    "  dt = T / N\n",
    "  paths = np.zeros((N + 1, Ite))\n",
    "  paths[0] = S0\n",
    "\n",
    "  for i in range(1, N + 1):\n",
    "    z = np.random.standard_normal(Ite)\n",
    "    paths[i] = paths[i - 1] * np.exp((r - 0.5 * sigma**2) * dt + sigma * np.sqrt(dt) * z)\n",
    "\n",
    "  payoffs = np.maximum(paths[-1] - K, 0)\n",
    "  breached = np.any(paths > barrier, axis=0)\n",
    "  payoffs[breached] = 0\n",
    "\n",
    "  discount_factor = np.exp(-r * T)\n",
    "  option_price = discount_factor * np.mean(payoffs)\n",
    "\n",
    "  print(\"Estimated UAO Barrier Option Price:\", round(option_price,2))"
   ]
  },
  {
   "cell_type": "code",
   "execution_count": null,
   "metadata": {
    "colab": {
     "base_uri": "https://localhost:8080/"
    },
    "id": "PZ3ihkMInBky",
    "outputId": "384e1ea5-3ec1-44a8-a44e-86c327180da5"
   },
   "outputs": [
    {
     "name": "stdout",
     "output_type": "stream",
     "text": [
      "Estimated UAO Barrier Option Price: 0.71\n"
     ]
    }
   ],
   "source": [
    "np.random.seed(2)\n",
    "UAO_price(120, 120, 0.06, 0.3, 8/12, 100000, int((8/12) * 252), 141)"
   ]
  },
  {
   "cell_type": "markdown",
   "metadata": {
    "id": "7GG1TQ_unc6H"
   },
   "source": [
    "## 9"
   ]
  },
  {
   "cell_type": "markdown",
   "metadata": {
    "id": "ubdS7dt_-W5L"
   },
   "source": [
    "### a"
   ]
  },
  {
   "cell_type": "code",
   "execution_count": null,
   "metadata": {
    "id": "CZJVOp1SneYC"
   },
   "outputs": [],
   "source": [
    "def UAI_price(S0, K, r, sigma, T, Ite, N, barrier):\n",
    "  dt = T / N\n",
    "  paths = np.zeros((N + 1, Ite))\n",
    "  paths[0] = S0\n",
    "\n",
    "  for i in range(1, N + 1):\n",
    "    z = np.random.standard_normal(Ite)\n",
    "    paths[i] = paths[i - 1] * np.exp((r - 0.5 * sigma**2) * dt + sigma * np.sqrt(dt) * z)\n",
    "\n",
    "  payoffs = np.maximum(paths[-1] - K, 0)\n",
    "  breached = np.all(paths > barrier, axis=0)\n",
    "  payoffs[breached] = 0\n",
    "\n",
    "  discount_factor = np.exp(-r * T)\n",
    "  option_price = discount_factor * np.mean(payoffs)\n",
    "\n",
    "  print(\"Estimated UAI Barrier Option Price:\", round(option_price,2))"
   ]
  },
  {
   "cell_type": "code",
   "execution_count": null,
   "metadata": {
    "colab": {
     "base_uri": "https://localhost:8080/"
    },
    "id": "I1AY3Uos-Oc6",
    "outputId": "d4a13da4-19f6-467c-9468-1764727da7f3"
   },
   "outputs": [
    {
     "name": "stdout",
     "output_type": "stream",
     "text": [
      "Estimated UAI Barrier Option Price: 13.97\n"
     ]
    }
   ],
   "source": [
    "np.random.seed(2)\n",
    "UAI_price(120, 120, 0.06, 0.3, 8/12, 100000, int((8/12) * 252), 141)"
   ]
  },
  {
   "cell_type": "markdown",
   "metadata": {
    "id": "JEKSElFa-YqJ"
   },
   "source": [
    "### b"
   ]
  },
  {
   "cell_type": "code",
   "execution_count": null,
   "metadata": {
    "colab": {
     "base_uri": "https://localhost:8080/"
    },
    "id": "YGPFXNJR-ZfI",
    "outputId": "2b7e64fe-a166-40d6-bf98-cdb01e2e8e8f"
   },
   "outputs": [
    {
     "name": "stdout",
     "output_type": "stream",
     "text": [
      "Monte Carlo Call Price: 13.95\n"
     ]
    }
   ],
   "source": [
    "# Vanilla European-style Call option\n",
    "np.random.seed(2)\n",
    "print(\"Monte Carlo Call Price:\", round(bs_call_mc(120, 120, 0.06, 0.3, 8/12, 0, 100000),2))"
   ]
  },
  {
   "cell_type": "markdown",
   "metadata": {
    "id": "HUeP7jyIBAXV"
   },
   "source": [
    "We observed that UAI barrier option price (13.97) is significantly close to the vanilla European Call option price (13.95) and far from the UAO barrier option price. This is due to the behavior of the two barrier options: the UAI barrier option activates only when the barrier is crossed, while the UAO barrier option stops to exist if the barrier is crossed. This means that a UAI barrier option basically behaves as a European Call option, while the UAO barrier option is something completely different which has the risk of disappearing (this explains the low price observed for UAO, which is equal to 0.71)."
   ]
  }
 ],
 "metadata": {
  "colab": {
   "provenance": []
  },
  "kernelspec": {
   "display_name": "Python 3 (ipykernel)",
   "language": "python",
   "name": "python3"
  },
  "language_info": {
   "codemirror_mode": {
    "name": "ipython",
    "version": 3
   },
   "file_extension": ".py",
   "mimetype": "text/x-python",
   "name": "python",
   "nbconvert_exporter": "python",
   "pygments_lexer": "ipython3",
   "version": "3.9.12"
  }
 },
 "nbformat": 4,
 "nbformat_minor": 1
}
